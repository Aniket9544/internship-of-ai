{
 "cells": [
  {
   "cell_type": "code",
   "execution_count": 2,
   "id": "d6c3c5a6",
   "metadata": {},
   "outputs": [
    {
     "name": "stdout",
     "output_type": "stream",
     "text": [
      "hellow world\n"
     ]
    }
   ],
   "source": [
    "print(\"hellow world\")"
   ]
  },
  {
   "cell_type": "markdown",
   "id": "a7a9b0e4",
   "metadata": {},
   "source": [
    "duplicate ele not allowed"
   ]
  },
  {
   "cell_type": "code",
   "execution_count": 3,
   "id": "1b51e47c",
   "metadata": {},
   "outputs": [
    {
     "data": {
      "text/plain": [
       "{1: 'apple', 2: 'hi', 3: 'data', 6: 34}"
      ]
     },
     "execution_count": 3,
     "metadata": {},
     "output_type": "execute_result"
    }
   ],
   "source": [
    "sample_dic={1:'apple',2:34.2,3:'data',2:\"every\",6:34,2:'hi'}\n",
    "sample_dic"
   ]
  },
  {
   "cell_type": "code",
   "execution_count": 4,
   "id": "48bcdbe3",
   "metadata": {},
   "outputs": [],
   "source": [
    "sample_dic[6]=100"
   ]
  },
  {
   "cell_type": "code",
   "execution_count": 5,
   "id": "2da01505",
   "metadata": {},
   "outputs": [
    {
     "data": {
      "text/plain": [
       "{1: 'apple', 2: 'hi', 3: 'data', 6: 100}"
      ]
     },
     "execution_count": 5,
     "metadata": {},
     "output_type": "execute_result"
    }
   ],
   "source": [
    "sample_dic"
   ]
  },
  {
   "cell_type": "code",
   "execution_count": null,
   "id": "6332f08e",
   "metadata": {},
   "outputs": [],
   "source": []
  }
 ],
 "metadata": {
  "kernelspec": {
   "display_name": "Python 3 (ipykernel)",
   "language": "python",
   "name": "python3"
  },
  "language_info": {
   "codemirror_mode": {
    "name": "ipython",
    "version": 3
   },
   "file_extension": ".py",
   "mimetype": "text/x-python",
   "name": "python",
   "nbconvert_exporter": "python",
   "pygments_lexer": "ipython3",
   "version": "3.10.9"
  }
 },
 "nbformat": 4,
 "nbformat_minor": 5
}
